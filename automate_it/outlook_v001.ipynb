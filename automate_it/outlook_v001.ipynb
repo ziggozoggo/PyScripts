{
 "cells": [
  {
   "cell_type": "code",
   "execution_count": 1,
   "id": "f88033ac",
   "metadata": {},
   "outputs": [],
   "source": [
    "import win32com.client\n",
    "import os\n",
    "from datetime import datetime, timedelta\n",
    "\n",
    "# Магия, подключаемся к аутлук\n",
    "outlook = win32com.client.Dispatch('outlook.application')\n",
    "mapi = outlook.GetNamespace('MAPI')"
   ]
  },
  {
   "cell_type": "code",
   "execution_count": 2,
   "id": "f8a76148",
   "metadata": {},
   "outputs": [],
   "source": [
    "# 6 - это папка \"Входящие\"\n",
    "# Нас интересует подпапка (subfolder)\n",
    "inbox = mapi.GetDefaultFolder(6)\n",
    "subfolder = inbox.Folders['Свид-ва СЭДО']"
   ]
  },
  {
   "cell_type": "code",
   "execution_count": 3,
   "id": "1cae5708",
   "metadata": {},
   "outputs": [],
   "source": [
    "# Выгребаем все сообщения (lazy метод, запроса не осуществляется)\n",
    "messages = subfolder.Items"
   ]
  },
  {
   "cell_type": "code",
   "execution_count": 4,
   "id": "962506cc",
   "metadata": {},
   "outputs": [],
   "source": [
    "# Фильтр сообщений, в данном случае по дате на последние сутки\n",
    "received_dt = datetime.now() - timedelta(days=1)\n",
    "received_dt = received_dt.strftime('%d/%m/%Y %H:%M %p')\n",
    "\n",
    "messages = messages.Restrict(\"[ReceivedTime] >= '\" + received_dt + \"'\")"
   ]
  },
  {
   "cell_type": "code",
   "execution_count": 5,
   "id": "dfc04e59",
   "metadata": {},
   "outputs": [
    {
     "data": {
      "text/plain": [
       "<COMObject Restrict>"
      ]
     },
     "execution_count": 5,
     "metadata": {},
     "output_type": "execute_result"
    }
   ],
   "source": [
    "messages"
   ]
  },
  {
   "cell_type": "code",
   "execution_count": 6,
   "id": "7af76861",
   "metadata": {},
   "outputs": [],
   "source": [
    "base_dict = {\n",
    "    'PERNR': '00000000',\n",
    "    'BEGDA': '01011900',\n",
    "    'ENDDA': '31129999',\n",
    "    'FORM': '',\n",
    "    'INSTITUTE': '',\n",
    "    'DOCUMENTYPE': 'Z1',\n",
    "    'ZZANZKL': '1',\n",
    "    'ZZANZEH': 'часы',\n",
    "    'ZZIDKUR': '00000000',\n",
    "    'ZZPASRK': '',\n",
    "    'ZZSTART': '',\n",
    "    'ZZEND_DATE': '01011900',\n",
    "    'ZZNRASP': '',\n",
    "    'ZZPRODA': '',\n",
    "    'ZZNPROT': '',\n",
    "    'ZZPROTA': '',\n",
    "    'ZZNDOCO': 'Number_of_document',\n",
    "    'ZZPRONA': '01011900',\n",
    "    'ZZVIDOB': '87002000',\n",
    "    'ZZINSTI': '',\n",
    "    'ZZRAZR': '',\n",
    "    'ZZDOPI': ''\n",
    "}\n",
    "\n",
    "res = []"
   ]
  },
  {
   "cell_type": "code",
   "execution_count": 7,
   "id": "450b7d3c",
   "metadata": {},
   "outputs": [],
   "source": [
    "import re\n",
    "for message in list(messages):\n",
    "    tmp_dict = dict.copy(base_dict)\n",
    "    \n",
    "    # pernr\n",
    "    pernr = re.search(r'(ID \\d{8})', message.body)\n",
    "    pernr = pernr[0].split()[-1]\n",
    "    # print(pernr)\n",
    "    \n",
    "    # objid\n",
    "    objid = re.search(r'по курсу .+', message.body)\n",
    "    objid = re.search(r'\\d{8}', objid[0].split()[-1])[0]\n",
    "    \n",
    "    # Номер свидетельства\n",
    "    doc_num = re.search(r'свидетельства номер \".+\"', message.body)\n",
    "    \n",
    "    # Костыль для вывода содержимого между кавычек\n",
    "    match = re.search(r'\".+\"', doc_num[0])\n",
    "    \n",
    "    #doc_num = doc_num[0].split()[-1].replace('\"', '')\n",
    "    doc_num = match[0].replace('\"', '')\n",
    "    \n",
    "    # Даты\n",
    "    doc_date = re.search(r'от \\d{2}.\\d{2}.\\d{4}', message.body)\n",
    "    doc_date = doc_date[0].split()[-1].replace('.', '')\n",
    "    \n",
    "    \n",
    "    tmp_dict['PERNR'] = pernr\n",
    "    tmp_dict['ZZIDKUR'] = objid\n",
    "    tmp_dict['ZZNDOCO'] = doc_num\n",
    "    \n",
    "    # Даты, одно значение в несколько полей\n",
    "    tmp_dict['BEGDA'] = doc_date\n",
    "    tmp_dict['ZZEND_DATE'] = doc_date\n",
    "    tmp_dict['ZZPRONA'] = doc_date\n",
    "    \n",
    "    res.append(tmp_dict)\n",
    "    "
   ]
  },
  {
   "cell_type": "code",
   "execution_count": 8,
   "id": "6664aae9",
   "metadata": {},
   "outputs": [
    {
     "data": {
      "text/html": [
       "<div>\n",
       "<style scoped>\n",
       "    .dataframe tbody tr th:only-of-type {\n",
       "        vertical-align: middle;\n",
       "    }\n",
       "\n",
       "    .dataframe tbody tr th {\n",
       "        vertical-align: top;\n",
       "    }\n",
       "\n",
       "    .dataframe thead th {\n",
       "        text-align: right;\n",
       "    }\n",
       "</style>\n",
       "<table border=\"1\" class=\"dataframe\">\n",
       "  <thead>\n",
       "    <tr style=\"text-align: right;\">\n",
       "      <th></th>\n",
       "    </tr>\n",
       "  </thead>\n",
       "  <tbody>\n",
       "  </tbody>\n",
       "</table>\n",
       "</div>"
      ],
      "text/plain": [
       "Empty DataFrame\n",
       "Columns: []\n",
       "Index: []"
      ]
     },
     "execution_count": 8,
     "metadata": {},
     "output_type": "execute_result"
    }
   ],
   "source": [
    "import pandas as pd\n",
    "list_of_dict = pd.DataFrame(res).to_dict(orient='list')\n",
    "res_df = pd.DataFrame.from_dict(list_of_dict)\n",
    "res_df"
   ]
  },
  {
   "cell_type": "code",
   "execution_count": 137,
   "id": "71c17a31",
   "metadata": {},
   "outputs": [],
   "source": [
    "# выгрузка в эксель\n",
    "res_df.to_excel('Свидетельства.xlsx', sheet_name='res', index=False)"
   ]
  },
  {
   "cell_type": "code",
   "execution_count": null,
   "id": "ec23dfdd",
   "metadata": {},
   "outputs": [],
   "source": []
  }
 ],
 "metadata": {
  "kernelspec": {
   "display_name": "Python 3 (ipykernel)",
   "language": "python",
   "name": "python3"
  },
  "language_info": {
   "codemirror_mode": {
    "name": "ipython",
    "version": 3
   },
   "file_extension": ".py",
   "mimetype": "text/x-python",
   "name": "python",
   "nbconvert_exporter": "python",
   "pygments_lexer": "ipython3",
   "version": "3.9.7"
  }
 },
 "nbformat": 4,
 "nbformat_minor": 5
}
